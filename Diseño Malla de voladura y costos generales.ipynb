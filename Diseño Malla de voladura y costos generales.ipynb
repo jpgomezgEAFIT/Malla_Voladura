{
 "cells": [
  {
   "cell_type": "markdown",
   "metadata": {},
   "source": [
    "<div align=\"right\">Santiago Bran Hernandez\n",
    "\n",
    "<div align=\"right\">Roxana Quesada Ortega\n",
    "    \n",
    "<div align=\"right\">Brillith Lorena Gutiérrez Aguilera\n",
    "    \n",
    "<div align=\"right\">Juan Pablo Gómez Gamero</div>"
   ]
  },
  {
   "cell_type": "markdown",
   "metadata": {},
   "source": [
    "# Diseño de malla de voladura\n"
   ]
  },
  {
   "cell_type": "markdown",
   "metadata": {},
   "source": [
    "El presente Notebook tiene como función diseñar una malla de voladura de un banco rectangular de roca tenaz destinada a ser detonada con un diseño triangular para aumentar la fragmentación. "
   ]
  },
  {
   "cell_type": "markdown",
   "metadata": {},
   "source": [
    "### Librerías importadas para el funcionamiento del Notebook."
   ]
  },
  {
   "cell_type": "code",
   "execution_count": 1,
   "metadata": {},
   "outputs": [],
   "source": [
    "import numpy as np\n",
    "import matplotlib.pyplot as plt"
   ]
  },
  {
   "cell_type": "markdown",
   "metadata": {},
   "source": [
    "### Datos de entrada"
   ]
  },
  {
   "cell_type": "markdown",
   "metadata": {},
   "source": [
    "+ Diseño geométrico del Banco:\n",
    " + Longitud ***L*** en *m*\n",
    " + Ancho ***A*** en *m*\n",
    " + Altura ***H*** en *m*.\n",
    "\n",
    "\n",
    "+ Propiedades del Banco:\n",
    " + Densidad de la roca ***DRoca*** en *g/cm3*\n",
    " + Velocidad de onda sísmica ***Vs*** en *m/s*\n",
    "\n",
    "\n",
    "+ Características de explosivos:\n",
    " + Diámetro del Barreno ***DiaBerreno*** en *mm*\n",
    " + Densidad de la carga ***DCarga*** en *g/cm3*\n",
    " + Velocidad de detonación ***Vdet*** en *m/s*\n",
    " + Valor del kilogramo de detonante ***ValorKgAnfo*** en *$COP*"
   ]
  },
  {
   "cell_type": "code",
   "execution_count": 2,
   "metadata": {},
   "outputs": [],
   "source": [
    "L=20 #m\n",
    "A=6 #m\n",
    "H=6.5 #m\n",
    "\n",
    "DRoca=4 #gr/cm^3\n",
    "Vs=2500 #m/s\n",
    "\n",
    "ang1=80\n",
    "DiaBarreno=76.2 #mm\n",
    "DCarga=0.85 #gr/cm^3\n",
    "Vdet=2000 #m/s\n",
    "\n",
    "ValorKgAnfo=7100 #$COP"
   ]
  },
  {
   "cell_type": "markdown",
   "metadata": {},
   "source": [
    "### Cálculo del Burdén ***B*** en *m* y Separación ***S*** en *m*.\n",
    "\n",
    "### Cálculo de la Sobreperforación ***J*** en *m* y el Retaque ***T*** en *m*."
   ]
  },
  {
   "cell_type": "code",
   "execution_count": 3,
   "metadata": {},
   "outputs": [
    {
     "name": "stdout",
     "output_type": "stream",
     "text": [
      "Separación = 1.351 m\n",
      "Burdén = 1.175 m\n",
      "Retaque = 1.867 m\n",
      "Sobreperforación = 0.352 m\n"
     ]
    }
   ],
   "source": [
    "Fe=(DCarga*Vdet**2/(1.3*3660**2))**0.33\n",
    "Fr=(2.7*3500/(DRoca*Vs))**0.33\n",
    "f=Fe*Fr\n",
    "B=0.76*DiaBarreno*f/25.4\n",
    "if DiaBarreno<165:\n",
    "    B=B*0.9\n",
    "S=1.15*B\n",
    "print('Separación =',round(S,3),'m')\n",
    "print('Burdén =',round(B,3),'m')\n",
    "\n",
    "T=DiaBarreno*35*0.7/1000\n",
    "J=0.3*B\n",
    "Lf=0.6*B\n",
    "print('Retaque =',round(T,3),'m')\n",
    "print('Sobreperforación =',round(J,3),'m')"
   ]
  },
  {
   "cell_type": "markdown",
   "metadata": {},
   "source": [
    "### Cálculo del número de barrenos necesarios para la voladura del banco\n",
    "Donde los indices ***1*** y ***2*** referentes a la primer y segunda fila o columna en su dirección ***x*** y ***y*** respectivamente. "
   ]
  },
  {
   "cell_type": "code",
   "execution_count": 4,
   "metadata": {
    "scrolled": false
   },
   "outputs": [],
   "source": [
    "Bancox=[0,L,L,0,0]\n",
    "Bancoy=[0,0,A,A,0]\n",
    "\n",
    "x1=int(L/S)\n",
    "if (L-(x1-1)*S)/2<=2*S/3:x2=x1-1\n",
    "else:x2=x1+1\n",
    "if int(A/B)%2==0:y1=int(A/B/2)\n",
    "else:y1=int(A/B/2)+1\n",
    "y2=int(A/B/2)\n",
    "\n",
    "Mallax1=np.zeros(x1)\n",
    "Mallax2=np.zeros(x2)\n",
    "Mallay1=np.zeros(y1)\n",
    "Mallay2=np.zeros(y2)\n",
    "\n",
    "for i in range(x1):\n",
    "    Mallax1[i]=S*i+(L-(x1-1)*S)/2\n",
    "for i in range(x2):\n",
    "    Mallax2[i]=Mallax1[0]+S*i+S/2*(x1-x2)\n",
    "for i in range(y1):\n",
    "    Mallay1[i]=2*B*i+(A-(int(A/B)-1)*B)/2\n",
    "for i in range(y2):\n",
    "    Mallay2[i]=Mallay1[0]+2*B*i+B"
   ]
  },
  {
   "cell_type": "markdown",
   "metadata": {},
   "source": [
    "### Detallado del borde de banco\n",
    "Con su separación en ambas direcciones ***x*** y ***y*** desde la esquina inferior izquierda, además de la separación ***S*** de los barrenos y el burdén ***B***. Esta geometría se repite para todas las esquinas del banco."
   ]
  },
  {
   "cell_type": "code",
   "execution_count": 5,
   "metadata": {},
   "outputs": [
    {
     "data": {
      "image/png": "[encoded data removed]",
      "text/plain": [
       "<Figure size 576x360 with 1 Axes>"
      ]
     },
     "metadata": {
      "needs_background": "light"
     },
     "output_type": "display_data"
    }
   ],
   "source": [
    "plt.figure(figsize=(8,5))  \n",
    "plt.plot([0,0,Mallax1[1]],[Mallay2[0],0,0])\n",
    "plt.plot(Mallax1[0],Mallay1[0],'go',ms=10)\n",
    "plt.plot(Mallax1[1],Mallay1[0],'go',ms=10)\n",
    "plt.plot(Mallax1[0]+S/2,Mallay1[0]+B,'go',ms=10)\n",
    "plt.plot([Mallax1[0],Mallax1[0]],[0,Mallay1[0]],'k--',linewidth=1)\n",
    "plt.plot([Mallax1[0]+S/2,Mallax1[0]+S/2],[Mallay1[0],Mallay2[0]],'k--',linewidth=1)\n",
    "plt.plot([0,Mallax1[1]],[Mallay1[0],Mallay1[0]],'k--',linewidth=1)\n",
    "plt.text(Mallax1[0],Mallay1[0]/2,str(round(Mallay1[0],2))+' m',rotation=90,ha='right',va='center',size=15)\n",
    "plt.text(Mallax1[0]/2,Mallay1[0],str(round(Mallax1[0],2))+' m',ha='center',va='bottom',size=15)\n",
    "plt.text(Mallax1[0]+S/2,Mallay1[0],'S= '+str(round(S,2))+' m',ha='center',va='top',size=15)\n",
    "plt.text(Mallax1[0]+S/2,(Mallay2[0]+Mallay1[0])/2,'B= '+str(round(B,2))+' m',rotation=90,ha='right',va='center',size=15)\n",
    "plt.show()"
   ]
  },
  {
   "cell_type": "markdown",
   "metadata": {},
   "source": [
    "### Vista en planta de las perforaciones totales del banco y las dimensiones del mismo."
   ]
  },
  {
   "cell_type": "code",
   "execution_count": 6,
   "metadata": {
    "scrolled": false
   },
   "outputs": [
    {
     "data": {
      "image/png": "[encoded data removed]",
      "text/plain": [
       "<Figure size 1440x432 with 1 Axes>"
      ]
     },
     "metadata": {
      "needs_background": "light"
     },
     "output_type": "display_data"
    }
   ],
   "source": [
    "plt.figure(figsize=(L,A))\n",
    "plt.plot(Bancox,Bancoy,'b')\n",
    "for i in range(x1):\n",
    "    for j in range(y1):\n",
    "        plt.plot(Mallax1[i],Mallay1[j],'go')\n",
    "for i in range(x2):\n",
    "    for j in range(y2):\n",
    "        plt.plot(Mallax2[i],Mallay2[j],'go')"
   ]
  },
  {
   "cell_type": "markdown",
   "metadata": {},
   "source": [
    "### Vista del corte longitudinal.\n",
    "\n",
    "En esta se aprecian las dimensiones del Retaque ***T***, la Columna de perforación, la Sobreperforación ***J***, la carga de columna y la carga de fondo, además del ángulo de los barrenos del borde del banco y la posición del Pentofex en la carga de fondo."
   ]
  },
  {
   "cell_type": "code",
   "execution_count": 7,
   "metadata": {
    "scrolled": false
   },
   "outputs": [
    {
     "data": {
      "image/png": "[encoded data removed]",
      "text/plain": [
       "<Figure size 432x468 with 1 Axes>"
      ]
     },
     "metadata": {
      "needs_background": "light"
     },
     "output_type": "display_data"
    }
   ],
   "source": [
    "plt.figure(figsize=(A,H))\n",
    "plt.plot([0,0,Mallay1[0]+B*5],[0,H,H],'b')\n",
    "ang=np.radians(ang1)\n",
    "\n",
    "plt.plot([Mallay1[0],abs((H-T)-H)/np.tan(ang)+Mallay1[0]],[H,H-T],'orange',linewidth=5)\n",
    "plt.plot([abs((H-T)-H)/np.tan(ang)+Mallay1[0],Mallay1[0]+H/np.tan(ang)],[H-T,0],'c',linewidth=5)\n",
    "plt.plot([Mallay1[0]+H/np.tan(ang),Mallay1[0]+H/np.tan(ang)+J/np.tan(ang)],[0,-J],'purple',linewidth=5)\n",
    "\n",
    "plt.plot([Mallay1[1],Mallay1[1]],[H,H-T],'orange',linewidth=5)\n",
    "plt.plot([Mallay1[1],Mallay1[1]],[H-T,0],'c',linewidth=5)\n",
    "plt.plot([Mallay1[1],Mallay1[1]],[0,-J],'purple',linewidth=5)\n",
    "\n",
    "plt.plot([Mallay1[2],Mallay1[2]],[H,H-T],'orange',linewidth=7)\n",
    "plt.plot([Mallay1[2],Mallay1[2]],[H-T,Lf-J],'deepskyblue',linewidth=7)\n",
    "plt.plot([Mallay1[2],Mallay1[2]],[Lf-J,-J],'lime',linewidth=7)\n",
    "plt.plot([Mallay1[2],Mallay1[2]],[H,0],'red',linewidth=1)\n",
    "plt.plot([Mallay1[2],Mallay1[2]],[.09,-.09],'red',linewidth=4)\n",
    "\n",
    "\n",
    "plt.text(Mallay1[0]+H/np.tan(ang)-.1,0,str(ang1)+'°',ha='right',va='top',size=13)\n",
    "\n",
    "plt.text(Mallay1[1],H-T/2,'Retaque',rotation=90,ha='right',va='center',size=15)\n",
    "plt.text(Mallay1[1]+.1,H-T/2,str(round(T,2))+' m',rotation=90,ha='left',va='center',size=13)\n",
    "plt.text(Mallay1[1],(H-T)/2,'Columna',rotation=90,ha='right',va='center',size=15)\n",
    "plt.text(Mallay1[1]+.1,(H-T)/2,str(round(H-T,2))+' m',rotation=90,ha='left',va='center',size=13)\n",
    "plt.text(Mallay1[1]+.1,-J/2,str(round(J,2))+' m',rotation=90,ha='left',va='center',size=13)\n",
    "plt.text(Mallay1[1],-J-.1,'Sobreperforación',ha='right',va='top',size=12)\n",
    "\n",
    "plt.text(Mallay1[2],H-T/2,'Retaque',rotation=90,ha='right',va='center',size=15)\n",
    "plt.text(Mallay1[2]+.1,H-T/2,str(round(T,2))+' m',rotation=90,ha='left',va='center',size=13)\n",
    "plt.text(Mallay1[2],(H-T)/2,'Carga ANFO',rotation=90,ha='right',va='center',size=15)\n",
    "plt.text(Mallay1[2]+.1,(H-T)/2,str(round(H+J-Lf-T,2))+' m',rotation=90,ha='left',va='center',size=13)\n",
    "plt.text(Mallay1[2]+.1,0,str(round(Lf,2))+' m',rotation=90,ha='left',va='center',size=13)\n",
    "plt.text(Mallay1[2],0,'Fondo',rotation=90,ha='right',va='center',size=15)\n",
    "plt.show()"
   ]
  },
  {
   "cell_type": "markdown",
   "metadata": {},
   "source": [
    "### Cálculo final de los kilogramos de carga para cada sección correspondiente y su valor total. \n",
    "De acuerdo con los valores suministrados en los Datos de entrada."
   ]
  },
  {
   "cell_type": "code",
   "execution_count": 8,
   "metadata": {
    "scrolled": true
   },
   "outputs": [
    {
     "name": "stdout",
     "output_type": "stream",
     "text": [
      "Carga de columna = 17.26 Kg\n",
      "Carga de fondo = 5.92 Kg\n",
      "Carga total por perforación = 23.18 Kg\n",
      "Total kilogramos de ANFO = 1242.84 Kg\n",
      "Valor total ANFO = COP $ 8824132.95\n"
     ]
    }
   ],
   "source": [
    "Qc=np.pi*(DiaBarreno/20)**2*(H-T-0.18)*DCarga/10\n",
    "Qf=np.pi*(DiaBarreno/10)**2*1.3*B*100*DCarga/4000\n",
    "Q=Qc+Qf\n",
    "\n",
    "Vol=L*A*H\n",
    "KgAnfo=Qc*(x1*y1+x2*y2)\n",
    "Total=ValorKgAnfo*KgAnfo\n",
    "print('Carga de columna =',round(Qc,2),'Kg')\n",
    "print('Carga de fondo =',round(Qf,2),'Kg')\n",
    "print('Carga total por perforación =',round(Q,2),'Kg')\n",
    "print('Total kilogramos de ANFO =',round(KgAnfo,2),'Kg')\n",
    "print('Valor total ANFO = COP $',round(Total,2))"
   ]
  },
  {
   "cell_type": "markdown",
   "metadata": {},
   "source": [
    "### Referencias\n",
    "\n"
   ]
  },
  {
   "cell_type": "markdown",
   "metadata": {},
   "source": [
    "https://repositorio.uptc.edu.co/bitstream/001/2242/1/TGT-782.pdf\n",
    "\n",
    "http://oa.upm.es/21848/1/20131007_PERFORACION_Y_VOLADURA.pdf"
   ]
  },
  {
   "cell_type": "markdown",
   "metadata": {},
   "source": []
  }
 ],
 "metadata": {
  "kernelspec": {
   "display_name": "Python 3",
   "language": "python",
   "name": "python3"
  },
  "language_info": {
   "codemirror_mode": {
    "name": "ipython",
    "version": 3
   },
   "file_extension": ".py",
   "mimetype": "text/x-python",
   "name": "python",
   "nbconvert_exporter": "python",
   "pygments_lexer": "ipython3",
   "version": "3.7.3"
  }
 },
 "nbformat": 4,
 "nbformat_minor": 4
}
