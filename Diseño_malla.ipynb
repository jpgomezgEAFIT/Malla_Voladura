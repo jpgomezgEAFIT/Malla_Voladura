{
 "cells": [
  {
   "cell_type": "code",
   "execution_count": null,
   "metadata": {},
   "outputs": [],
   "source": [
    "import numpy as np\n",
    "import matplotlib.pyplot as plt"
   ]
  },
  {
   "cell_type": "markdown",
   "metadata": {},
   "source": [
    "# Datos de entrada"
   ]
  },
  {
   "cell_type": "markdown",
   "metadata": {},
   "source": [
    "Longitud L en m, Ancho en m, Altura H en m, Densidad de la roca gr/cm3"
   ]
  },
  {
   "cell_type": "code",
   "execution_count": null,
   "metadata": {},
   "outputs": [],
   "source": [
    "L=20\n",
    "A=12\n",
    "H=6.5\n",
    "DRoca=4 \n",
    "Vs=2500\n",
    "DiaBarreno=76.2 #mm\n",
    "DCarga=0.85\n",
    "Vdet=2000"
   ]
  },
  {
   "cell_type": "code",
   "execution_count": null,
   "metadata": {},
   "outputs": [],
   "source": [
    "Fe=(DCarga*Vdet**2/(1.3*3660**2))**0.33\n",
    "Fr=(2.7*3500/(DRoca*Vs))**0.33\n",
    "f=Fe*Fr\n",
    "B=0.76*DiaBarreno*f/25.4\n",
    "if DiaBarreno<165:\n",
    "    B=B*0.9\n",
    "S=1.15*B\n",
    "#print(S,B)\n",
    "\n",
    "T=DiaBarreno*35*0.7/1000\n",
    "J=0.29*B\n",
    "#print(T,J)"
   ]
  },
  {
   "cell_type": "code",
   "execution_count": null,
   "metadata": {},
   "outputs": [],
   "source": [
    "Bancox=[0,L,L,0,0]\n",
    "Bancoy=[0,0,A,A,0]\n",
    "\n",
    "x1=int(L/S)\n",
    "if (L-(x1-1)*S)/2<=2*S/3:x2=x1-1\n",
    "else:x2=x1+1\n",
    "if int(A/B)%2==0:y1=int(A/B/2)\n",
    "else:y1=int(A/B/2)+1\n",
    "y2=int(A/B/2)\n",
    "\n",
    "Mallax1=np.zeros(x1)\n",
    "Mallax2=np.zeros(x2)\n",
    "Mallay1=np.zeros(y1)\n",
    "Mallay2=np.zeros(y2)\n",
    "\n",
    "for i in range(x1):\n",
    "    Mallax1[i]=S*i+(L-(x1-1)*S)/2\n",
    "for i in range(x2):\n",
    "    Mallax2[i]=Mallax1[0]+S*i+S/2*(x1-x2)\n",
    "for i in range(y1):\n",
    "    Mallay1[i]=2*B*i+(A-(int(A/B)-1)*B)/2\n",
    "for i in range(y2):\n",
    "    Mallay2[i]=Mallay1[0]+2*B*i+B"
   ]
  },
  {
   "cell_type": "code",
   "execution_count": null,
   "metadata": {},
   "outputs": [],
   "source": [
    "plt.figure(figsize=(8,5))  \n",
    "plt.plot([0,0,Mallax1[1]],[Mallay2[0],0,0])\n",
    "plt.plot(Mallax1[0],Mallay1[0],'go',ms=10)\n",
    "plt.plot(Mallax1[1],Mallay1[0],'go',ms=10)\n",
    "plt.plot(Mallax1[0]+S/2,Mallay1[0]+B,'go',ms=10)\n",
    "plt.plot([Mallax1[0],Mallax1[0]],[0,Mallay1[0]],'k',linewidth=1)\n",
    "plt.plot([Mallax1[0]+S/2,Mallax1[0]+S/2],[Mallay1[0],Mallay2[0]],'k',linewidth=1)\n",
    "plt.plot([0,Mallax1[1]],[Mallay1[0],Mallay1[0]],'k',linewidth=1)\n",
    "plt.text(Mallax1[0],Mallay1[0]/2,str(round(Mallay1[0],2))+'m',rotation=90,ha='right',va='center',size=15)\n",
    "plt.text(Mallax1[0]/2,Mallay1[0],str(round(Mallax1[0],2))+'m',ha='center',va='bottom',size=15)\n",
    "plt.text(Mallax1[0]+S/2,Mallay1[0],str(round(S,2))+'m',ha='center',va='top',size=15)\n",
    "plt.text(Mallax1[0]+S/2,(Mallay2[0]+Mallay1[0])/2,str(round(B,2))+'m',rotation=90,ha='right',va='center',size=15)\n",
    "plt.show()"
   ]
  },
  {
   "cell_type": "code",
   "execution_count": null,
   "metadata": {},
   "outputs": [],
   "source": [
    "plt.figure(figsize=(L,A))\n",
    "plt.plot(Bancox,Bancoy,'b')\n",
    "for i in range(x1):\n",
    "    for j in range(y1):\n",
    "        plt.plot(Mallax1[i],Mallay1[j],'go')\n",
    "for i in range(x2):\n",
    "    for j in range(y2):\n",
    "        plt.plot(Mallax2[i],Mallay2[j],'go')"
   ]
  },
  {
   "cell_type": "code",
   "execution_count": null,
   "metadata": {},
   "outputs": [],
   "source": [
    "plt.figure(figsize=(A,H))\n",
    "plt.plot([0,0,A],[0,H,H],'b')\n",
    "ang=80\n",
    "plt.plot([Mallay1[0],abs((H-T)-H)/np.tan(ang)+Mallay1[0]],[H,H-T],'orange',linewidth=5)\n",
    "plt.plot([abs((H-T)-H)/np.tan(ang)+Mallay1[0],Mallay1[0]+H/np.tan(ang)],[H-T,0],'c',linewidth=5)\n",
    "plt.plot([Mallay1[0]+H/np.tan(ang),Mallay1[0]+H/np.tan(ang)+J/np.tan(ang)],[0,-J],'purple',linewidth=5)\n",
    "for i in range(1,y1):\n",
    "    plt.plot([Mallay1[i],Mallay1[i]],[H,H-T],'orange',linewidth=5)\n",
    "    plt.plot([Mallay1[i],Mallay1[i]],[H-T,0],'c',linewidth=5)\n",
    "    plt.plot([Mallay1[i],Mallay1[i]],[0,-J],'purple',linewidth=5)\n",
    "plt.text(Mallay1[1],H-T/2,'Retaque',rotation=90,ha='right',va='center',size=15)\n",
    "plt.text(Mallay1[1]+.1,H-T/2,str(round(T,2))+'m',rotation=90,ha='left',va='center',size=13)\n",
    "plt.text(Mallay1[1],(H-T)/2,'Carga ANFO',rotation=90,ha='right',va='center',size=15)\n",
    "plt.text(Mallay1[1]+.1,(H-T)/2,str(round(H-T,2))+'m',rotation=90,ha='left',va='center',size=13)\n",
    "plt.text(Mallay1[1],-J/2,'J',rotation=90,ha='right',va='center',size=15)\n",
    "plt.text(Mallay1[1]+.1,-J/2,str(round(J,2))+'m',rotation=90,ha='left',va='center',size=13)\n",
    "plt.text(Mallay1[1],-J,'s',rotation=90,ha='left',va='center',size=13)\n",
    "plt.text(Mallay1[0]+H/np.tan(ang)-.1,0,str(ang)+'°',ha='right',va='top',size=13)\n",
    "plt.show()"
   ]
  },
  {
   "cell_type": "markdown",
   "metadata": {},
   "source": [
    "# Recomendaciones\n",
    "\n",
    "Linea de voladura restriccion predial o tecnica\n",
    "\n",
    "Dentro de los limites prediales\n",
    "\n",
    "Triangular para rocas sanas\n",
    "\n",
    "Superficie horizontal "
   ]
  },
  {
   "cell_type": "markdown",
   "metadata": {},
   "source": [
    "### Referencias\n",
    "\n"
   ]
  },
  {
   "cell_type": "code",
   "execution_count": null,
   "metadata": {},
   "outputs": [],
   "source": []
  }
 ],
 "metadata": {
  "kernelspec": {
   "display_name": "Python 3",
   "language": "python",
   "name": "python3"
  },
  "language_info": {
   "codemirror_mode": {
    "name": "ipython",
    "version": 3
   },
   "file_extension": ".py",
   "mimetype": "text/x-python",
   "name": "python",
   "nbconvert_exporter": "python",
   "pygments_lexer": "ipython3",
   "version": "3.7.3"
  }
 },
 "nbformat": 4,
 "nbformat_minor": 4
}
